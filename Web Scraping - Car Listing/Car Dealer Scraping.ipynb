{
 "cells": [
  {
   "cell_type": "markdown",
   "id": "3fff9094",
   "metadata": {},
   "source": [
    "### Imports"
   ]
  },
  {
   "cell_type": "code",
   "execution_count": 1,
   "id": "0cea6e1d",
   "metadata": {},
   "outputs": [],
   "source": [
    "from bs4 import BeautifulSoup\n",
    "import requests\n",
    "import pandas as pd"
   ]
  },
  {
   "cell_type": "markdown",
   "id": "ab44d5db",
   "metadata": {},
   "source": [
    "### HTTP Request"
   ]
  },
  {
   "cell_type": "markdown",
   "id": "0cfb2448",
   "metadata": {},
   "source": [
    "#### Store website in variable"
   ]
  },
  {
   "cell_type": "code",
   "execution_count": 2,
   "id": "4e02604b",
   "metadata": {},
   "outputs": [],
   "source": [
    "website = 'https://www.cars.com/shopping/results/?stock_type=cpo&makes%5B%5D=mercedes_benz&models%5B%5D&list_price_max&maximum_distance=all&zip'"
   ]
  },
  {
   "cell_type": "markdown",
   "id": "df0089fd",
   "metadata": {},
   "source": [
    "#### Get Request"
   ]
  },
  {
   "cell_type": "code",
   "execution_count": 3,
   "id": "ab3db5c7",
   "metadata": {},
   "outputs": [],
   "source": [
    "response = requests.get(website)"
   ]
  },
  {
   "cell_type": "markdown",
   "id": "9c9695f8",
   "metadata": {},
   "source": [
    "#### Status Code"
   ]
  },
  {
   "cell_type": "code",
   "execution_count": 4,
   "id": "8550f4c8",
   "metadata": {},
   "outputs": [
    {
     "data": {
      "text/plain": [
       "200"
      ]
     },
     "execution_count": 4,
     "metadata": {},
     "output_type": "execute_result"
    }
   ],
   "source": [
    "response.status_code"
   ]
  },
  {
   "cell_type": "markdown",
   "id": "b7886f4e",
   "metadata": {},
   "source": [
    "### Soup Object"
   ]
  },
  {
   "cell_type": "code",
   "execution_count": 5,
   "id": "56931fc2",
   "metadata": {},
   "outputs": [],
   "source": [
    "soup = BeautifulSoup(response.content, 'html.parser')"
   ]
  },
  {
   "cell_type": "markdown",
   "id": "45f7e012",
   "metadata": {},
   "source": [
    "### Results"
   ]
  },
  {
   "cell_type": "code",
   "execution_count": 7,
   "id": "10f8b3fa",
   "metadata": {},
   "outputs": [],
   "source": [
    "results = soup.find_all('div', {'class':'vehicle-card'})"
   ]
  },
  {
   "cell_type": "code",
   "execution_count": 8,
   "id": "717f57d3",
   "metadata": {},
   "outputs": [
    {
     "data": {
      "text/plain": [
       "20"
      ]
     },
     "execution_count": 8,
     "metadata": {},
     "output_type": "execute_result"
    }
   ],
   "source": [
    "len(results)"
   ]
  },
  {
   "cell_type": "code",
   "execution_count": null,
   "id": "3b969447",
   "metadata": {
    "scrolled": false
   },
   "outputs": [],
   "source": []
  },
  {
   "cell_type": "markdown",
   "id": "3f3744e4",
   "metadata": {},
   "source": [
    "### Target necessary data"
   ]
  },
  {
   "cell_type": "code",
   "execution_count": 9,
   "id": "f2d5720f",
   "metadata": {},
   "outputs": [],
   "source": [
    "# Name\n",
    "# Mileage\n",
    "# Rating\n",
    "# Rating Count\n",
    "# Price\n",
    "# Dealer"
   ]
  },
  {
   "cell_type": "markdown",
   "id": "bf454f58",
   "metadata": {},
   "source": [
    "#### Name"
   ]
  },
  {
   "cell_type": "code",
   "execution_count": 10,
   "id": "d7631755",
   "metadata": {},
   "outputs": [
    {
     "name": "stdout",
     "output_type": "stream",
     "text": [
      "2020 Mercedes-Benz GLE 450 AWD 4MATIC\n"
     ]
    }
   ],
   "source": [
    "name = results[0].find('h2').get_text()\n",
    "print(name)"
   ]
  },
  {
   "cell_type": "markdown",
   "id": "a9209b99",
   "metadata": {},
   "source": [
    "#### Mileage"
   ]
  },
  {
   "cell_type": "code",
   "execution_count": 11,
   "id": "20388432",
   "metadata": {},
   "outputs": [
    {
     "name": "stdout",
     "output_type": "stream",
     "text": [
      "50,171 mi.\n"
     ]
    }
   ],
   "source": [
    "mileage = results[0].find('div', {'class':'mileage'}).get_text()\n",
    "print(mileage)"
   ]
  },
  {
   "cell_type": "markdown",
   "id": "35945c02",
   "metadata": {},
   "source": [
    "#### Rating"
   ]
  },
  {
   "cell_type": "code",
   "execution_count": 12,
   "id": "2021b22d",
   "metadata": {},
   "outputs": [
    {
     "name": "stdout",
     "output_type": "stream",
     "text": [
      "2.5\n"
     ]
    }
   ],
   "source": [
    "rating = results[0].find('span', {'class':'sds-rating__count'}).get_text()\n",
    "print(rating)"
   ]
  },
  {
   "cell_type": "code",
   "execution_count": null,
   "id": "d96623c7",
   "metadata": {},
   "outputs": [],
   "source": []
  },
  {
   "cell_type": "markdown",
   "id": "7fbcdd33",
   "metadata": {},
   "source": [
    "#### Rating Count"
   ]
  },
  {
   "cell_type": "code",
   "execution_count": 13,
   "id": "af9dd991",
   "metadata": {},
   "outputs": [
    {
     "name": "stdout",
     "output_type": "stream",
     "text": [
      "(55 reviews)\n"
     ]
    }
   ],
   "source": [
    "rating_count = results[0].find('span', {'class':'sds-rating__link'}).get_text()\n",
    "print(rating_count)"
   ]
  },
  {
   "cell_type": "code",
   "execution_count": null,
   "id": "e940db4d",
   "metadata": {},
   "outputs": [],
   "source": []
  },
  {
   "cell_type": "markdown",
   "id": "080dc9e3",
   "metadata": {},
   "source": [
    "#### Price"
   ]
  },
  {
   "cell_type": "code",
   "execution_count": 14,
   "id": "8cc9a35a",
   "metadata": {},
   "outputs": [
    {
     "name": "stdout",
     "output_type": "stream",
     "text": [
      "$55,985\n"
     ]
    }
   ],
   "source": [
    "price = results[0].find('span', {'class':'primary-price'}).get_text()\n",
    "print(price)"
   ]
  },
  {
   "cell_type": "markdown",
   "id": "007f0f15",
   "metadata": {},
   "source": [
    "#### Dealer"
   ]
  },
  {
   "cell_type": "code",
   "execution_count": 15,
   "id": "4b7dfcf8",
   "metadata": {},
   "outputs": [],
   "source": [
    "dealer_name = results[0].find('div', {'class':'dealer-name'}).get_text()"
   ]
  },
  {
   "cell_type": "code",
   "execution_count": 16,
   "id": "27aba012",
   "metadata": {},
   "outputs": [
    {
     "name": "stdout",
     "output_type": "stream",
     "text": [
      "\n",
      "Mercedes-Benz of Pleasanton\n",
      "\n"
     ]
    }
   ],
   "source": [
    "dealer_name.strip()\n",
    "print(dealer_name)"
   ]
  },
  {
   "cell_type": "markdown",
   "id": "c7022008",
   "metadata": {},
   "source": [
    "### Put everything together inside a For-loop"
   ]
  },
  {
   "cell_type": "code",
   "execution_count": 17,
   "id": "364e013e",
   "metadata": {},
   "outputs": [],
   "source": [
    "name = []\n",
    "mileage = []\n",
    "dealer = []\n",
    "rating = []\n",
    "rating_count = []\n",
    "price = []\n",
    "\n",
    "for result in results: \n",
    "    try: \n",
    "        name.append(result.find('h2').get_text())\n",
    "    except:\n",
    "        name.append('n/a')\n",
    "    \n",
    "    try:\n",
    "        mileage.append(result.find('div', {'class':'mileage'}).get_text())\n",
    "    except:\n",
    "        mileage.append('n/a')\n",
    "        \n",
    "    try:\n",
    "        dealer.append(result.find('div', {'class':'dealer-name'}).get_text().strip())\n",
    "    except:\n",
    "        dealer.append('n/a')\n",
    "        \n",
    "    try:\n",
    "        rating.append(result.find('span', {'class':'sds-rating__count'}).get_text())\n",
    "    except:\n",
    "        rating.append('n/a')\n",
    "        \n",
    "    try:\n",
    "        rating_count.append(result.find('span', {'class':'sds-rating__link'}).get_text())\n",
    "    except:\n",
    "        rating_count.append('n/a')\n",
    "        \n",
    "    try:\n",
    "        price.append(result.find('span', {'class':'primary-price'}).get_text())\n",
    "    except:\n",
    "        price.append('n/a')"
   ]
  },
  {
   "cell_type": "markdown",
   "id": "a1b2d9a0",
   "metadata": {},
   "source": [
    "### Create Pandas Dataframe"
   ]
  },
  {
   "cell_type": "code",
   "execution_count": 18,
   "id": "4eee01c2",
   "metadata": {},
   "outputs": [],
   "source": [
    "car_dealer = pd.DataFrame({'Name':name, 'Mileage (mi.)':mileage, 'Dealer':dealer, 'Rating':rating, 'Rating Count':rating_count, 'Pirce':price})"
   ]
  },
  {
   "cell_type": "code",
   "execution_count": 19,
   "id": "050123ff",
   "metadata": {
    "scrolled": true
   },
   "outputs": [
    {
     "data": {
      "text/html": [
       "<div>\n",
       "<style scoped>\n",
       "    .dataframe tbody tr th:only-of-type {\n",
       "        vertical-align: middle;\n",
       "    }\n",
       "\n",
       "    .dataframe tbody tr th {\n",
       "        vertical-align: top;\n",
       "    }\n",
       "\n",
       "    .dataframe thead th {\n",
       "        text-align: right;\n",
       "    }\n",
       "</style>\n",
       "<table border=\"1\" class=\"dataframe\">\n",
       "  <thead>\n",
       "    <tr style=\"text-align: right;\">\n",
       "      <th></th>\n",
       "      <th>Name</th>\n",
       "      <th>Mileage (mi.)</th>\n",
       "      <th>Dealer</th>\n",
       "      <th>Rating</th>\n",
       "      <th>Rating Count</th>\n",
       "      <th>Pirce</th>\n",
       "    </tr>\n",
       "  </thead>\n",
       "  <tbody>\n",
       "    <tr>\n",
       "      <th>0</th>\n",
       "      <td>2020 Mercedes-Benz GLE 450 AWD 4MATIC</td>\n",
       "      <td>50,171 mi.</td>\n",
       "      <td>Mercedes-Benz of Pleasanton</td>\n",
       "      <td>2.5</td>\n",
       "      <td>(55 reviews)</td>\n",
       "      <td>$55,985</td>\n",
       "    </tr>\n",
       "    <tr>\n",
       "      <th>1</th>\n",
       "      <td>2019 Mercedes-Benz AMG C 63 S</td>\n",
       "      <td>34,922 mi.</td>\n",
       "      <td>Mercedes-Benz of San Jose</td>\n",
       "      <td>4.6</td>\n",
       "      <td>(655 reviews)</td>\n",
       "      <td>$67,963</td>\n",
       "    </tr>\n",
       "    <tr>\n",
       "      <th>2</th>\n",
       "      <td>2019 Mercedes-Benz CLA 250 Base 4MATIC</td>\n",
       "      <td>32,763 mi.</td>\n",
       "      <td>Mercedes-Benz of Tysons Corner</td>\n",
       "      <td>4.5</td>\n",
       "      <td>(834 reviews)</td>\n",
       "      <td>$32,495</td>\n",
       "    </tr>\n",
       "    <tr>\n",
       "      <th>3</th>\n",
       "      <td>2019 Mercedes-Benz GLS 450 Base 4MATIC</td>\n",
       "      <td>27,964 mi.</td>\n",
       "      <td>Mercedes-Benz of Fort Washington</td>\n",
       "      <td>4.6</td>\n",
       "      <td>(2,328 reviews)</td>\n",
       "      <td>$59,222</td>\n",
       "    </tr>\n",
       "    <tr>\n",
       "      <th>4</th>\n",
       "      <td>2021 Mercedes-Benz C-Class C 300</td>\n",
       "      <td>17,331 mi.</td>\n",
       "      <td>Mercedes-Benz of South Orlando</td>\n",
       "      <td>4.7</td>\n",
       "      <td>(1,229 reviews)</td>\n",
       "      <td>$58,477</td>\n",
       "    </tr>\n",
       "  </tbody>\n",
       "</table>\n",
       "</div>"
      ],
      "text/plain": [
       "                                     Name Mileage (mi.)  \\\n",
       "0   2020 Mercedes-Benz GLE 450 AWD 4MATIC    50,171 mi.   \n",
       "1           2019 Mercedes-Benz AMG C 63 S    34,922 mi.   \n",
       "2  2019 Mercedes-Benz CLA 250 Base 4MATIC    32,763 mi.   \n",
       "3  2019 Mercedes-Benz GLS 450 Base 4MATIC    27,964 mi.   \n",
       "4        2021 Mercedes-Benz C-Class C 300    17,331 mi.   \n",
       "\n",
       "                             Dealer Rating     Rating Count    Pirce  \n",
       "0       Mercedes-Benz of Pleasanton    2.5     (55 reviews)  $55,985  \n",
       "1         Mercedes-Benz of San Jose    4.6    (655 reviews)  $67,963  \n",
       "2    Mercedes-Benz of Tysons Corner    4.5    (834 reviews)  $32,495  \n",
       "3  Mercedes-Benz of Fort Washington    4.6  (2,328 reviews)  $59,222  \n",
       "4    Mercedes-Benz of South Orlando    4.7  (1,229 reviews)  $58,477  "
      ]
     },
     "execution_count": 19,
     "metadata": {},
     "output_type": "execute_result"
    }
   ],
   "source": [
    "car_dealer.head()"
   ]
  },
  {
   "cell_type": "markdown",
   "id": "5e11f9af",
   "metadata": {},
   "source": [
    "#### Data Cleaning"
   ]
  },
  {
   "cell_type": "code",
   "execution_count": 20,
   "id": "9431a9cb",
   "metadata": {},
   "outputs": [],
   "source": [
    "car_dealer['Rating Count'] = car_dealer['Rating Count'].apply(lambda x : x.strip('reviews)').strip('('))"
   ]
  },
  {
   "cell_type": "code",
   "execution_count": 21,
   "id": "14ee32bc",
   "metadata": {
    "scrolled": true
   },
   "outputs": [],
   "source": [
    "car_dealer['Mileage (mi.)'] = car_dealer['Mileage (mi.)'].apply(lambda x : x.strip('mi.'))"
   ]
  },
  {
   "cell_type": "code",
   "execution_count": 22,
   "id": "6bdbfc70",
   "metadata": {},
   "outputs": [
    {
     "data": {
      "text/html": [
       "<div>\n",
       "<style scoped>\n",
       "    .dataframe tbody tr th:only-of-type {\n",
       "        vertical-align: middle;\n",
       "    }\n",
       "\n",
       "    .dataframe tbody tr th {\n",
       "        vertical-align: top;\n",
       "    }\n",
       "\n",
       "    .dataframe thead th {\n",
       "        text-align: right;\n",
       "    }\n",
       "</style>\n",
       "<table border=\"1\" class=\"dataframe\">\n",
       "  <thead>\n",
       "    <tr style=\"text-align: right;\">\n",
       "      <th></th>\n",
       "      <th>Name</th>\n",
       "      <th>Mileage (mi.)</th>\n",
       "      <th>Dealer</th>\n",
       "      <th>Rating</th>\n",
       "      <th>Rating Count</th>\n",
       "      <th>Pirce</th>\n",
       "    </tr>\n",
       "  </thead>\n",
       "  <tbody>\n",
       "    <tr>\n",
       "      <th>0</th>\n",
       "      <td>2020 Mercedes-Benz GLE 450 AWD 4MATIC</td>\n",
       "      <td>50,171</td>\n",
       "      <td>Mercedes-Benz of Pleasanton</td>\n",
       "      <td>2.5</td>\n",
       "      <td>55</td>\n",
       "      <td>$55,985</td>\n",
       "    </tr>\n",
       "    <tr>\n",
       "      <th>1</th>\n",
       "      <td>2019 Mercedes-Benz AMG C 63 S</td>\n",
       "      <td>34,922</td>\n",
       "      <td>Mercedes-Benz of San Jose</td>\n",
       "      <td>4.6</td>\n",
       "      <td>655</td>\n",
       "      <td>$67,963</td>\n",
       "    </tr>\n",
       "    <tr>\n",
       "      <th>2</th>\n",
       "      <td>2019 Mercedes-Benz CLA 250 Base 4MATIC</td>\n",
       "      <td>32,763</td>\n",
       "      <td>Mercedes-Benz of Tysons Corner</td>\n",
       "      <td>4.5</td>\n",
       "      <td>834</td>\n",
       "      <td>$32,495</td>\n",
       "    </tr>\n",
       "    <tr>\n",
       "      <th>3</th>\n",
       "      <td>2019 Mercedes-Benz GLS 450 Base 4MATIC</td>\n",
       "      <td>27,964</td>\n",
       "      <td>Mercedes-Benz of Fort Washington</td>\n",
       "      <td>4.6</td>\n",
       "      <td>2,328</td>\n",
       "      <td>$59,222</td>\n",
       "    </tr>\n",
       "    <tr>\n",
       "      <th>4</th>\n",
       "      <td>2021 Mercedes-Benz C-Class C 300</td>\n",
       "      <td>17,331</td>\n",
       "      <td>Mercedes-Benz of South Orlando</td>\n",
       "      <td>4.7</td>\n",
       "      <td>1,229</td>\n",
       "      <td>$58,477</td>\n",
       "    </tr>\n",
       "  </tbody>\n",
       "</table>\n",
       "</div>"
      ],
      "text/plain": [
       "                                     Name Mileage (mi.)  \\\n",
       "0   2020 Mercedes-Benz GLE 450 AWD 4MATIC       50,171    \n",
       "1           2019 Mercedes-Benz AMG C 63 S       34,922    \n",
       "2  2019 Mercedes-Benz CLA 250 Base 4MATIC       32,763    \n",
       "3  2019 Mercedes-Benz GLS 450 Base 4MATIC       27,964    \n",
       "4        2021 Mercedes-Benz C-Class C 300       17,331    \n",
       "\n",
       "                             Dealer Rating Rating Count    Pirce  \n",
       "0       Mercedes-Benz of Pleasanton    2.5          55   $55,985  \n",
       "1         Mercedes-Benz of San Jose    4.6         655   $67,963  \n",
       "2    Mercedes-Benz of Tysons Corner    4.5         834   $32,495  \n",
       "3  Mercedes-Benz of Fort Washington    4.6       2,328   $59,222  \n",
       "4    Mercedes-Benz of South Orlando    4.7       1,229   $58,477  "
      ]
     },
     "execution_count": 22,
     "metadata": {},
     "output_type": "execute_result"
    }
   ],
   "source": [
    "car_dealer.head()"
   ]
  },
  {
   "cell_type": "markdown",
   "id": "dc10f2c1",
   "metadata": {},
   "source": [
    "### Output in Excel"
   ]
  },
  {
   "cell_type": "code",
   "execution_count": 25,
   "id": "13a2ceeb",
   "metadata": {},
   "outputs": [],
   "source": [
    "car_dealer.to_excel('single_page_car.xlsx', index=False)"
   ]
  },
  {
   "cell_type": "markdown",
   "id": "c76420ed",
   "metadata": {},
   "source": [
    "### Paginagtion"
   ]
  },
  {
   "cell_type": "code",
   "execution_count": 27,
   "id": "d8923f84",
   "metadata": {},
   "outputs": [],
   "source": [
    "name = []\n",
    "mileage = []\n",
    "dealer = []\n",
    "rating = []\n",
    "rating_count = []\n",
    "price = []\n",
    "\n",
    "for i in range(1, 21):\n",
    "    \n",
    "    website = 'https://www.cars.com/shopping/results/?page=' + str(i) + '&page_size=20&list_price_max=&makes[]=mercedes_benz&maximum_distance=all&models[]=&stock_type=cpo&zip='\n",
    "    response = requests.get(website)\n",
    "    soup = BeautifulSoup(response.content, 'html.parser')\n",
    "    results = soup.find_all('div', {'class':'vehicle-card'})\n",
    "    \n",
    "    for result in results: \n",
    "    \n",
    "        try: \n",
    "            name.append(result.find('h2').get_text())\n",
    "        except:\n",
    "            name.append('n/a')\n",
    "\n",
    "        try:\n",
    "            mileage.append(result.find('div', {'class':'mileage'}).get_text())\n",
    "        except:\n",
    "            mileage.append('n/a')\n",
    "\n",
    "        try:\n",
    "            dealer.append(result.find('div', {'class':'dealer-name'}).get_text().strip())\n",
    "        except:\n",
    "            dealer.append('n/a')\n",
    "\n",
    "        try:\n",
    "            rating.append(result.find('span', {'class':'sds-rating__count'}).get_text())\n",
    "        except:\n",
    "            rating.append('n/a')\n",
    "\n",
    "        try:\n",
    "            rating_count.append(result.find('span', {'class':'sds-rating__link'}).get_text())\n",
    "        except:\n",
    "            rating_count.append('n/a')\n",
    "\n",
    "        try:\n",
    "            price.append(result.find('span', {'class':'primary-price'}).get_text())\n",
    "        except:\n",
    "            price.append('n/a')\n",
    "    "
   ]
  },
  {
   "cell_type": "code",
   "execution_count": 28,
   "id": "8a86e411",
   "metadata": {},
   "outputs": [],
   "source": [
    "car_dealer = pd.DataFrame({'Name':name, 'Mileage (mi.)':mileage, 'Dealer':dealer, 'Rating':rating, 'Rating Count':rating_count, 'Pirce':price})"
   ]
  },
  {
   "cell_type": "code",
   "execution_count": 29,
   "id": "874ca861",
   "metadata": {},
   "outputs": [],
   "source": [
    "car_dealer['Rating Count'] = car_dealer['Rating Count'].apply(lambda x : x.strip('reviews)').strip('('))\n",
    "\n",
    "car_dealer['Mileage (mi.)'] = car_dealer['Mileage (mi.)'].apply(lambda x : x.strip('mi.'))"
   ]
  },
  {
   "cell_type": "code",
   "execution_count": 30,
   "id": "158efba7",
   "metadata": {},
   "outputs": [],
   "source": [
    "car_dealer.to_excel('car_listing.xlsx', index=False)"
   ]
  },
  {
   "cell_type": "code",
   "execution_count": null,
   "id": "d6f910cf",
   "metadata": {},
   "outputs": [],
   "source": []
  }
 ],
 "metadata": {
  "kernelspec": {
   "display_name": "Python 3 (ipykernel)",
   "language": "python",
   "name": "python3"
  },
  "language_info": {
   "codemirror_mode": {
    "name": "ipython",
    "version": 3
   },
   "file_extension": ".py",
   "mimetype": "text/x-python",
   "name": "python",
   "nbconvert_exporter": "python",
   "pygments_lexer": "ipython3",
   "version": "3.10.4"
  }
 },
 "nbformat": 4,
 "nbformat_minor": 5
}
